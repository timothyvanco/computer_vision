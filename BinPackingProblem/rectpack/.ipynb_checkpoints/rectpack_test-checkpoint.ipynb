{
 "cells": [
  {
   "cell_type": "code",
   "execution_count": 1,
   "metadata": {
    "pycharm": {
     "is_executing": false
    }
   },
   "outputs": [],
   "source": [
    "from rectpack import newPacker\n",
    "\n",
    "rectangles = [(10, 10), (10, 10)]\n",
    "bins = [(50, 50)]\n",
    "\n",
    "packer = newPacker()\n",
    "\n",
    "# Add the rectangles to packing queue\n",
    "for r in rectangles:\n",
    "    packer.add_rect(*r)\n",
    "\n",
    "# Add the bins where the rectangles will be placed\n",
    "for b in bins:\n",
    "    packer.add_bin(*b)\n",
    "\n",
    "# Start packing\n",
    "packer.pack()"
   ]
  },
  {
   "cell_type": "code",
   "execution_count": 2,
   "metadata": {
    "pycharm": {
     "is_executing": false
    }
   },
   "outputs": [],
   "source": [
    "# Obtain number of bins used for packing\n",
    "nbins = len(packer)\n",
    "\n",
    "# Index first bin\n",
    "abin = packer[0]\n",
    "\n",
    "# Bin dimmensions (bins can be reordered during packing)\n",
    "width, height = abin.width, abin.height\n",
    "\n",
    "# Number of rectangles packed into first bin\n",
    "nrect = len(packer[0])"
   ]
  },
  {
   "cell_type": "code",
   "execution_count": 3,
   "metadata": {
    "pycharm": {
     "is_executing": false
    }
   },
   "outputs": [],
   "source": [
    "# Second bin first rectangle\n",
    "rect = packer"
   ]
  },
  {
   "cell_type": "code",
   "execution_count": 4,
   "metadata": {
    "pycharm": {
     "is_executing": false
    }
   },
   "outputs": [
    {
     "name": "stdout",
     "output_type": "stream",
     "text": [
      "None\n",
      "Bin index: (50, 50), x: P(0, 10), y: P(10, 10)\n",
      "Bin index: (50, 50), x: P(10, 10), y: P(20, 10)\n"
     ]
    }
   ],
   "source": [
    "for abin in packer:\n",
    "    print(abin.bid) # Bin id if it has one\n",
    "    for rect in abin:\n",
    "        x, y, w, h = rect\n",
    "        print(\"Bin index: {}, x: {}, y: {}\".format(b, x, y))"
   ]
  },
  {
   "cell_type": "code",
   "execution_count": 5,
   "metadata": {
    "pycharm": {
     "is_executing": false
    }
   },
   "outputs": [],
   "source": [
    "# Full rectangle list\n",
    "all_rects = packer.rect_list()\n",
    "for rect in all_rects:\n",
    "    b, x, y, w, h, rid = rect\n",
    "\n",
    "# b - Bin index\n",
    "# x - Rectangle bottom-left corner x coordinate\n",
    "# y - Rectangle bottom-left corner y coordinate\n",
    "# w - Rectangle width\n",
    "# h - Rectangle height\n",
    "# rid - User asigned rectangle id or None"
   ]
  },
  {
   "cell_type": "code",
   "execution_count": 6,
   "metadata": {
    "pycharm": {
     "is_executing": false
    }
   },
   "outputs": [
    {
     "data": {
      "text/plain": [
       "0"
      ]
     },
     "execution_count": 6,
     "metadata": {},
     "output_type": "execute_result"
    }
   ],
   "source": [
    "y"
   ]
  },
  {
   "cell_type": "code",
   "execution_count": 8,
   "metadata": {
    "pycharm": {
     "is_executing": false
    }
   },
   "outputs": [
    {
     "name": "stdout",
     "output_type": "stream",
     "text": [
      "bin of size:  1200 800 , # of rectangles in bin 4\n",
      "bin of size:  1200 800 , # of rectangles in bin 3\n"
     ]
    },
    {
     "data": {
      "image/png": "[encoded data removed]",
      "text/plain": [
       "<Figure size 432x288 with 1 Axes>"
      ]
     },
     "metadata": {
      "needs_background": "light"
     },
     "output_type": "display_data"
    },
    {
     "data": {
      "image/png": "[encoded data removed]",
      "text/plain": [
       "<Figure size 432x288 with 1 Axes>"
      ]
     },
     "metadata": {
      "needs_background": "light"
     },
     "output_type": "display_data"
    }
   ],
   "source": [
    "from rectpack import newPacker\n",
    "from matplotlib import pyplot as plt\n",
    "import matplotlib.patches as patches\n",
    "\n",
    "rectangles = [(300, 200), (400, 300), (600, 400), (400, 300), (600, 400), (400, 300), (600, 400)]\n",
    "bins = [(1200, 800), (1200, 800)]\n",
    "\n",
    "packer = newPacker()\n",
    "\n",
    "for rectangle in rectangles:\n",
    "    packer.add_rect(*rectangle)\n",
    "\n",
    "for bin in bins:\n",
    "    packer.add_bin(*bin)\n",
    "\n",
    "packer.pack()\n",
    "\n",
    "for index, abin in enumerate(packer):\n",
    "    bw, bh  = abin.width, abin.height\n",
    "    print('bin of size: ', bw, bh, \", # of rectangles in bin\", len(abin))\n",
    "    \n",
    "    fig = plt.figure()\n",
    "    ax = fig.add_subplot(111, aspect='equal')\n",
    "    \n",
    "    for rect in abin:\n",
    "        x, y, w, h = rect.x, rect.y, rect.width, rect.height\n",
    "        plt.axis([0, bw, 0, bh])\n",
    "        patch = patches.Rectangle(\n",
    "                                    (x, y), # (x,y)\n",
    "                                    w,      # width\n",
    "                                    h,      # height\n",
    "                                    facecolor=\"#00ffff\",\n",
    "                                    edgecolor=\"black\",\n",
    "                                    linewidth=2\n",
    "                                )\n",
    "        ax.add_patch(patch)\n",
    "        rx, ry = patch.get_xy()\n",
    "        cx = rx + patch.get_width()/2.0\n",
    "        cy = ry + patch.get_height()/2.0\n",
    "\n",
    "        ax.annotate(f'w: {w}\\nh: {h}', (cx, cy), color='b', weight='bold', \n",
    "                    fontsize=10, ha='center', va='center')\n",
    "                    \n",
    "    #fig.savefig('temp.png', dpi=fig.dpi)"
   ]
  },
  {
   "cell_type": "code",
   "execution_count": 7,
   "metadata": {
    "pycharm": {
     "is_executing": false
    }
   },
   "outputs": [],
   "source": []
  }
 ],
 "metadata": {
  "kernelspec": {
   "display_name": "Python 3",
   "language": "python",
   "name": "python3"
  },
  "language_info": {
   "codemirror_mode": {
    "name": "ipython",
    "version": 3
   },
   "file_extension": ".py",
   "mimetype": "text/x-python",
   "name": "python",
   "nbconvert_exporter": "python",
   "pygments_lexer": "ipython3",
   "version": "3.7.6"
  }
 },
 "nbformat": 4,
 "nbformat_minor": 1
}
